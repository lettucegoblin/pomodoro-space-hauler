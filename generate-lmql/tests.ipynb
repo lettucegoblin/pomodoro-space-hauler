{
 "cells": [
  {
   "cell_type": "code",
   "execution_count": 29,
   "metadata": {},
   "outputs": [],
   "source": [
    "#%pip install openai\n"
   ]
  },
  {
   "cell_type": "code",
   "execution_count": 30,
   "metadata": {},
   "outputs": [],
   "source": [
    "from openai import OpenAI\n",
    "import json\n",
    "base_url = \"http://10.0.0.215:1234/v1\"  # Adjust this to your LM Studio server\n",
    "model = \"Meta-Llama-3.1-8B-Instruct-GGUF/Meta-Llama-3.1-8B-Instruct-Q4_K_M.gguf\"\n",
    "\n",
    "client = OpenAI(\n",
    "    base_url=base_url,\n",
    "    api_key=\"asdf\",\n",
    ")\n"
   ]
  },
  {
   "cell_type": "code",
   "execution_count": 31,
   "metadata": {},
   "outputs": [
    {
     "name": "stdout",
     "output_type": "stream",
     "text": [
      "This is only a test.\n"
     ]
    }
   ],
   "source": [
    "chat_completion = client.chat.completions.create(\n",
    "    messages=[\n",
    "        {\n",
    "            \"role\": \"user\",\n",
    "            \"content\": \"Say this is a test\",\n",
    "        }\n",
    "    ],\n",
    "    model=model,\n",
    ")\n",
    "\n",
    "print(chat_completion.choices[0].message.content)\n"
   ]
  },
  {
   "cell_type": "code",
   "execution_count": 32,
   "metadata": {},
   "outputs": [],
   "source": [
    "#https://platform.openai.com/docs/guides/structured-outputs/how-to-use\n",
    "from pydantic import BaseModel\n",
    "\n",
    "class Step(BaseModel):\n",
    "    explanation: str\n",
    "    output: str\n",
    "\n",
    "class MathResponse(BaseModel):\n",
    "    steps: list[Step]\n",
    "    final_answer: str"
   ]
  },
  {
   "cell_type": "code",
   "execution_count": 33,
   "metadata": {},
   "outputs": [],
   "source": [
    "question = \"how can I solve 8x + 7 = -23\"\n",
    "completion = client.beta.chat.completions.parse(\n",
    "    model=model,\n",
    "    messages=[\n",
    "        {\"role\": \"system\", \"content\": \"You are a helpful math tutor. Guide the user through the solution step by step.\"},\n",
    "        {\"role\": \"user\", \"content\": question}\n",
    "    ],\n",
    "    response_format=MathResponse\n",
    "  )"
   ]
  },
  {
   "cell_type": "code",
   "execution_count": 34,
   "metadata": {},
   "outputs": [
    {
     "name": "stdout",
     "output_type": "stream",
     "text": [
      "how can I solve 8x + 7 = -23\n",
      "First, let's move the constant term (-23) to the left side by adding it to both sides.\n",
      "\t- 8x + 7 - 23 = -23 - 23\n",
      "\n",
      "Now we simplify\n",
      "\t- 8x -16 = -46\n",
      "\n",
      "Next, let's move the constant term (-16) to the right side by adding its opposite (which is +16) to both sides.\n",
      "\t- 8x = -46 + 16\n",
      "\n",
      "Now we simplify\n",
      "\t- 8x = -30\n",
      "\n",
      "Finally, let's isolate x by dividing both sides by the coefficient (-8).\n",
      "\tx = -30 / -8\n",
      "\n",
      "Final answer: I will guide you through this step-by-step. To solve for x, we need to isolate x on one side of the equation.\n"
     ]
    }
   ],
   "source": [
    "output = json.loads(completion.choices[0].message.content)\n",
    "print(question)\n",
    "for step in output[\"steps\"]:\n",
    "    print(step[\"explanation\"])\n",
    "    print(\"\\t\" + step[\"output\"] + \"\\n\")\n",
    "\n",
    "print(\"Final answer: \" + output[\"final_answer\"])\n"
   ]
  },
  {
   "cell_type": "code",
   "execution_count": null,
   "metadata": {},
   "outputs": [],
   "source": []
  }
 ],
 "metadata": {
  "kernelspec": {
   "display_name": "machinelearning",
   "language": "python",
   "name": "python3"
  },
  "language_info": {
   "codemirror_mode": {
    "name": "ipython",
    "version": 3
   },
   "file_extension": ".py",
   "mimetype": "text/x-python",
   "name": "python",
   "nbconvert_exporter": "python",
   "pygments_lexer": "ipython3",
   "version": "3.11.9"
  }
 },
 "nbformat": 4,
 "nbformat_minor": 2
}
