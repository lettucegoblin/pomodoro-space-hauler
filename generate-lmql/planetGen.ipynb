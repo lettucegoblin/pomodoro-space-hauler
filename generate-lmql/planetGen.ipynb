{
 "cells": [
  {
   "cell_type": "code",
   "execution_count": 9,
   "metadata": {},
   "outputs": [],
   "source": [
    "from openai import OpenAI\n",
    "import json\n",
    "base_url = \"http://10.0.0.215:1234/v1\"  # Adjust this to your LM Studio server\n",
    "model = \"Meta-Llama-3.1-8B-Instruct-GGUF/Meta-Llama-3.1-8B-Instruct-Q4_K_M.gguf\"\n",
    "\n",
    "client = OpenAI(\n",
    "    base_url=base_url,\n",
    "    api_key=\"asdf\",\n",
    ")\n"
   ]
  },
  {
   "cell_type": "code",
   "execution_count": 10,
   "metadata": {},
   "outputs": [],
   "source": [
    "from pydantic import BaseModel\n",
    "\n",
    "class Planet(BaseModel):\n",
    "    planet_name: str\n",
    "    cluster_name: str\n",
    "    # resources: list[str]\n",
    "    # special_features: list[str]\n",
    "    # hazards: list[str]\n",
    "    # trade_goods: list[str]\n",
    "\n",
    "class PlanetResponse(BaseModel):\n",
    "    planets: list[Planet]"
   ]
  },
  {
   "cell_type": "code",
   "execution_count": 11,
   "metadata": {},
   "outputs": [],
   "source": [
    "# sets\n",
    "planet_names = {}\n",
    "cluster_names = {}"
   ]
  },
  {
   "cell_type": "code",
   "execution_count": 18,
   "metadata": {},
   "outputs": [],
   "source": [
    "def generate_planets(postfix = \"\"):\n",
    "  # Generate a Planet name\n",
    "  question = \"Generate an array of planet names. \" + postfix\n",
    "  completion = client.beta.chat.completions.parse(\n",
    "      model=model,\n",
    "      messages=[\n",
    "          {\"role\": \"system\", \"content\": \"You are a complete index of all the fantasy alien planets and clusters in the universe. Be creative.\"},\n",
    "          {\"role\": \"user\", \"content\": question}\n",
    "      ],\n",
    "      response_format=PlanetResponse\n",
    "    )\n",
    "\n",
    "  output = json.loads(completion.choices[0].message.content)\n",
    "  return output\n"
   ]
  },
  {
   "cell_type": "code",
   "execution_count": 13,
   "metadata": {},
   "outputs": [],
   "source": [
    "def is_valid_name(name):\n",
    "  return len(name) > 2 and \"(\" not in name and \")\" not in name\n",
    "\n",
    "def add_planets(raw_planets):\n",
    "  for planet in raw_planets['planets']:\n",
    "    if not is_valid_name(planet['planet_name']):\n",
    "      print(planet['planet_name'])\n",
    "    else:\n",
    "      planet_names[planet['planet_name']] = True\n",
    "    if not is_valid_name(planet['cluster_name']):\n",
    "      print(planet['cluster_name'])\n",
    "    else:\n",
    "      cluster_names[planet['cluster_name']] = True"
   ]
  },
  {
   "cell_type": "code",
   "execution_count": 25,
   "metadata": {},
   "outputs": [
    {
     "name": "stdout",
     "output_type": "stream",
     "text": [
      "129\n",
      "78\n",
      "dict_keys(['Xylonia-IV', \"Zha'thik\", 'Kraelion-Prime', 'Aetherean-2', 'Nyxoria-Alpha', 'Khyron-Prime', 'Elyria-3', 'Threnody-1', \"Mor'Dhul-Prime\", 'Sylvaen-IV', 'Xarxos-Prime', 'Aetherean-3', 'Zorvath-Alpha', 'Kaelin-Prime', 'Threnody-3', 'Elyria-1', 'Sylvaen-Prime', 'Ark-IV', 'Ark-VI', 'Necromunda', 'Molech', 'Terra', 'Cadia', 'Perseus Mons', \"Molech's sister, Horus' Throne World - Kharon\", 'Sarsha', 'Kaelin-IV', \"T'Kon\", 'Kraelion-III', 'Zorvath-I', \"N'Tar\", 'Khyron-IV', 'Xeridia-II', \"Zhra'gha\", 'Rigel IV', \"Nal'raxx\", 'Deneva', 'Xeridia', 'Rigel V', 'Arkeia-IV', 'Andoria', 'Xylonia', 'Zhilak', 'Rigel II', \"Shel'goroth\", 'Vrakkor-III', 'Aethereia', 'Thrakos', 'Delta IV', 'Rigel III', 'Elyria', 'Nyxoria', 'Xeridian-IV', 'Rigel X', 'Bajor', 'Lyraxys', 'Zorvath', 'Nebulon-6', 'Deneb IV', 'Tatooine', 'Zorgon Prime', 'Xylophia-IV', 'Rigellian IV', 'Dantooine', 'Nyxoria-III', 'Vega IV', 'Lyraxys-Prime', 'Coruscant', 'Aethereia-Prime', 'Palladium-5', 'Khyron-6', 'Arkona IV', 'Hoth', 'Celestia-III', 'Earth', 'Rigel 4', 'Naboo', \"G'Nightshade\", 'Vorgath', 'Pandora', 'Korvus Prime', 'Yavin 4', 'Thokk', 'Alderaan', 'Kashyyyk', 'Arrakis', 'Dagobah', 'Nyxoros', 'Titan', 'Felucia', 'Korvus Minor', 'Krypton', 'Elysium-7', 'Nova Haven', 'Tyche', 'Elysium-9', 'Vega 6', 'Aethoria', 'Vorgath-3', 'Zhilak-Prime', 'Aerthys-III', 'Thrakos-2', 'Elyria-V', 'Lyrax-Prime', 'Vylonia-II', 'Kalyndor-IV', 'Xeridia-III', 'Aethereia-IV', 'Kraelion Prime', 'Eldrida-III', 'Vorgath-Prime', 'Luminaria-II', 'Xarathys-I', 'Nyxoria-Prime', 'Sylvana-II', 'Pyrope-III', 'Tenebrous-I', 'Astrum-Prime', 'Cthonic-II', 'Nova Haven-I', 'Somnium-II', 'Malumbra-I', 'Echoflux-Prime', 'Lumina-II', 'Aethereia-I', 'Glaciem-Prime', 'Tenebrous-II', 'Astrum-II', 'Sylvana-Prime'])\n",
      "dict_keys(['Aethereia', 'Nebulon-6', 'Gorvoth', 'Eldrida', 'Arkeia', 'Vorvath', 'Lyraxys', 'Xeridia', 'Nefaria', 'Kaelara', 'Vorgath', 'Elyria', 'Nebulon-7', 'Arcturus-4', 'Gorvoth-2', 'Lyraxys-2', 'Xeridia-2', 'The Ark', 'Necromunda', 'Ultramar', 'Segmentum Solar', 'The Edge', 'The Dark City', 'The Eye of Terror', 'The Calm System', 'The Helix Nebula Cluster', 'The Maelstrom', 'The Kraelion Cluster', 'The Zorvath Cluster', \"The N'Tari Cluster\", 'The Khyron Cluster', 'The Xeridia Cluster', 'Andromeda Galaxy', 'Milky Way', 'Rigellian Cluster', 'Kolinar Cluster', 'Nebulon 6', 'Rigelian Cluster', 'Cygnus X-1', 'Orion Nebula', 'Sirius Cluster', 'Triangulum Galaxy', \"Zha'thik Cluster\", \"N'Terra Collective\", 'Gorvoth Galaxy', 'Throkos Cluster', 'Erebusian Nebula', 'Kralkion Cluster', 'Xeridian Expanse', 'Korvathian Sector', 'Sygma Cluster', 'Nebulon Cluster', 'Arkeia Cluster', 'Terra Nova Sector', \"Gra'zix Cluster\", 'Nebula of Eternal Dawn', 'Zhrakian Wastes', 'Celestial Spire of Elyria', \"G'lork's Abyssal Domain\", 'Aurora Cluster', 'The Devouring Void', \"N'Terra's Enigma\", 'Crystal Spires of Xylonia', 'The Burning Expanse', \"Erebus' Shadowlands\", \"G'neth's Celestial Vault\", \"Khaos' Abyssal Rift\", 'The Starforged Worlds', 'The Shattered Isles of Zorvath', \"Elyria's Dreamrealm\", \"Vorgath's Dark Dominion\", \"Nebulon's Echoes\", \"Xylophia's Luminous Kingdom\", 'The Great Migration', \"Kraelion's Frozen Throne\", \"Erebus' Eternal Night\", \"G'neth's Stellar Sanctum\", 'The Shattered Spires of Xylonia'])\n"
     ]
    }
   ],
   "source": [
    "raw_planets = generate_planets(\"Be creative with the cluster names. Make them sound alien and fantastical.\")\n",
    "\n",
    "add_planets(raw_planets)\n",
    "\n",
    "# list clusters and planets\n",
    "print(len(planet_names)), print(len(cluster_names))\n",
    "print(planet_names.keys())\n",
    "print(cluster_names.keys())\n"
   ]
  },
  {
   "cell_type": "code",
   "execution_count": 36,
   "metadata": {},
   "outputs": [],
   "source": [
    "file_location = \"../pomodoro-space-hauler/data/planet_generation.json\"\n",
    "\n",
    "planet_gen = {}\n",
    "# read in the existing planet names\n",
    "with open(file_location, 'r') as f:\n",
    "    planet_gen = json.load(f)\n",
    "    planet_gen[\"cluster_names\"] = list(set(planet_gen[\"cluster_names\"]).union(set(cluster_names.keys())))\n",
    "\n",
    "    planet_gen[\"planet_names\"] = list(set(planet_gen[\"planet_names\"]).union(set(planet_names.keys())))\n",
    "\n",
    "    # Write out to a json file\n",
    "    with open(file_location, 'w') as f:\n",
    "        json.dump(planet_gen, f, indent=2)"
   ]
  },
  {
   "cell_type": "code",
   "execution_count": null,
   "metadata": {},
   "outputs": [],
   "source": []
  }
 ],
 "metadata": {
  "kernelspec": {
   "display_name": "machinelearning",
   "language": "python",
   "name": "python3"
  },
  "language_info": {
   "codemirror_mode": {
    "name": "ipython",
    "version": 3
   },
   "file_extension": ".py",
   "mimetype": "text/x-python",
   "name": "python",
   "nbconvert_exporter": "python",
   "pygments_lexer": "ipython3",
   "version": "3.11.9"
  }
 },
 "nbformat": 4,
 "nbformat_minor": 2
}
